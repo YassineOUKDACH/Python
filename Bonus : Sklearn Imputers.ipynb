{
  "nbformat": 4,
  "nbformat_minor": 0,
  "metadata": {
    "colab": {
      "name": "Untitled20.ipynb",
      "provenance": [],
      "authorship_tag": "ABX9TyP1BN6pc/YRZSMbpLSGzw6t",
      "include_colab_link": true
    },
    "kernelspec": {
      "name": "python3",
      "display_name": "Python 3"
    }
  },
  "cells": [
    {
      "cell_type": "markdown",
      "metadata": {
        "id": "view-in-github",
        "colab_type": "text"
      },
      "source": [
        "<a href=\"https://colab.research.google.com/github/MachineLearnia/Python-Machine-Learning/blob/master/Bonus%20%3A%20Sklearn%20Imputers.ipynb\" target=\"_parent\"><img src=\"https://colab.research.google.com/assets/colab-badge.svg\" alt=\"Open In Colab\"/></a>"
      ]
    },
    {
      "cell_type": "markdown",
      "metadata": {
        "id": "Fb9USP_k-rxl",
        "colab_type": "text"
      },
      "source": [
        "# Imputation avec Sklearn"
      ]
    },
    {
      "cell_type": "code",
      "metadata": {
        "id": "k0qEyE_h-bOI",
        "colab_type": "code",
        "colab": {
          "base_uri": "https://localhost:8080/",
          "height": 51
        },
        "outputId": "7d3217ef-69ff-43c7-aa15-176f89c8209e"
      },
      "source": [
        "import numpy as np\n",
        "import matplotlib.pyplot as plt\n",
        "import pandas as pd\n",
        "import seaborn as sns\n",
        "from sklearn.linear_model import SGDClassifier"
      ],
      "execution_count": 1,
      "outputs": [
        {
          "output_type": "stream",
          "text": [
            "/usr/local/lib/python3.6/dist-packages/statsmodels/tools/_testing.py:19: FutureWarning: pandas.util.testing is deprecated. Use the functions in the public API at pandas.testing instead.\n",
            "  import pandas.util.testing as tm\n"
          ],
          "name": "stderr"
        }
      ]
    },
    {
      "cell_type": "markdown",
      "metadata": {
        "id": "N-Hu2w2A-z-f",
        "colab_type": "text"
      },
      "source": [
        "## 1. SimpleImputer"
      ]
    },
    {
      "cell_type": "code",
      "metadata": {
        "id": "IEOHOX0z-vLg",
        "colab_type": "code",
        "colab": {}
      },
      "source": [
        "from sklearn.impute import SimpleImputer"
      ],
      "execution_count": 0,
      "outputs": []
    },
    {
      "cell_type": "code",
      "metadata": {
        "id": "sHpxOuJ7-26g",
        "colab_type": "code",
        "colab": {
          "base_uri": "https://localhost:8080/",
          "height": 85
        },
        "outputId": "5edce2f9-a33c-48f2-f51a-763f8fbdecb8"
      },
      "source": [
        "X = np.array([[10, 3],\n",
        "              [0, 4],\n",
        "              [5, 3],\n",
        "             [np.nan, 3]])\n",
        "\n",
        "imputer = SimpleImputer(missing_values=np.nan,\n",
        "             strategy='mean')\n",
        "\n",
        "imputer.fit_transform(X)"
      ],
      "execution_count": 3,
      "outputs": [
        {
          "output_type": "execute_result",
          "data": {
            "text/plain": [
              "array([[10.,  3.],\n",
              "       [ 0.,  4.],\n",
              "       [ 5.,  3.],\n",
              "       [ 5.,  3.]])"
            ]
          },
          "metadata": {
            "tags": []
          },
          "execution_count": 3
        }
      ]
    },
    {
      "cell_type": "code",
      "metadata": {
        "id": "DsqbBpis-53U",
        "colab_type": "code",
        "colab": {
          "base_uri": "https://localhost:8080/",
          "height": 85
        },
        "outputId": "22a0b93d-7ce4-4f45-f7b1-630d4a7fb85a"
      },
      "source": [
        "X_test = np.array([[12, 5],\n",
        "                   [40, 2],\n",
        "                   [5, 5],\n",
        "                   [np.nan, np.nan]])\n",
        "\n",
        "imputer.transform(X_test)"
      ],
      "execution_count": 4,
      "outputs": [
        {
          "output_type": "execute_result",
          "data": {
            "text/plain": [
              "array([[12.  ,  5.  ],\n",
              "       [40.  ,  2.  ],\n",
              "       [ 5.  ,  5.  ],\n",
              "       [ 5.  ,  3.25]])"
            ]
          },
          "metadata": {
            "tags": []
          },
          "execution_count": 4
        }
      ]
    },
    {
      "cell_type": "markdown",
      "metadata": {
        "id": "WbLbVBAs-_DQ",
        "colab_type": "text"
      },
      "source": [
        "## 2. KNNImputer"
      ]
    },
    {
      "cell_type": "code",
      "metadata": {
        "id": "0FrFu7JW-7Y_",
        "colab_type": "code",
        "colab": {}
      },
      "source": [
        "from sklearn.impute import KNNImputer"
      ],
      "execution_count": 0,
      "outputs": []
    },
    {
      "cell_type": "code",
      "metadata": {
        "id": "EiGkCzvr_BcW",
        "colab_type": "code",
        "colab": {
          "base_uri": "https://localhost:8080/",
          "height": 85
        },
        "outputId": "af93e8ac-c19c-456f-b360-b2fc5cb876c8"
      },
      "source": [
        "X = np.array([[1, 100],\n",
        "             [2, 30],\n",
        "             [3, 15],\n",
        "             [np.nan, 20]])\n",
        "\n",
        "imputer = KNNImputer(n_neighbors=1)\n",
        "imputer.fit_transform(X)"
      ],
      "execution_count": 8,
      "outputs": [
        {
          "output_type": "execute_result",
          "data": {
            "text/plain": [
              "array([[  1., 100.],\n",
              "       [  2.,  30.],\n",
              "       [  3.,  15.],\n",
              "       [  3.,  20.]])"
            ]
          },
          "metadata": {
            "tags": []
          },
          "execution_count": 8
        }
      ]
    },
    {
      "cell_type": "code",
      "metadata": {
        "id": "U4xbPUPN_DR4",
        "colab_type": "code",
        "colab": {
          "base_uri": "https://localhost:8080/",
          "height": 34
        },
        "outputId": "99db28fd-47ff-4417-e505-bc343ba3e979"
      },
      "source": [
        "X_test = np.array([[np.nan, 35]])\n",
        "\n",
        "imputer.transform(X_test)"
      ],
      "execution_count": 9,
      "outputs": [
        {
          "output_type": "execute_result",
          "data": {
            "text/plain": [
              "array([[ 2., 35.]])"
            ]
          },
          "metadata": {
            "tags": []
          },
          "execution_count": 9
        }
      ]
    },
    {
      "cell_type": "markdown",
      "metadata": {
        "id": "2xv7YjzN_JV0",
        "colab_type": "text"
      },
      "source": [
        "## 3. MissingIndicator"
      ]
    },
    {
      "cell_type": "code",
      "metadata": {
        "id": "Mh6FbZQp_HcC",
        "colab_type": "code",
        "colab": {}
      },
      "source": [
        "from sklearn.impute import MissingIndicator\n",
        "from sklearn.pipeline import make_union"
      ],
      "execution_count": 0,
      "outputs": []
    },
    {
      "cell_type": "code",
      "metadata": {
        "id": "w2gNzXPt_Ls7",
        "colab_type": "code",
        "colab": {
          "base_uri": "https://localhost:8080/",
          "height": 85
        },
        "outputId": "aa4e0f44-383d-4d76-f6bc-5e583596a7f8"
      },
      "source": [
        "X = np.array([[1, 100],\n",
        "             [2, 30],\n",
        "             [3, 15],\n",
        "             [np.nan, np.nan]])\n",
        "\n",
        "MissingIndicator().fit_transform(X)"
      ],
      "execution_count": 11,
      "outputs": [
        {
          "output_type": "execute_result",
          "data": {
            "text/plain": [
              "array([[False, False],\n",
              "       [False, False],\n",
              "       [False, False],\n",
              "       [ True,  True]])"
            ]
          },
          "metadata": {
            "tags": []
          },
          "execution_count": 11
        }
      ]
    },
    {
      "cell_type": "code",
      "metadata": {
        "id": "do41O4gq_POw",
        "colab_type": "code",
        "colab": {
          "base_uri": "https://localhost:8080/",
          "height": 85
        },
        "outputId": "8690f814-9fe9-493b-9321-7b4e92bd718b"
      },
      "source": [
        "pipeline = make_union(SimpleImputer(strategy='constant', fill_value=-99),\n",
        "                     MissingIndicator())\n",
        "\n",
        "pipeline.fit_transform(X)"
      ],
      "execution_count": 12,
      "outputs": [
        {
          "output_type": "execute_result",
          "data": {
            "text/plain": [
              "array([[  1., 100.,   0.,   0.],\n",
              "       [  2.,  30.,   0.,   0.],\n",
              "       [  3.,  15.,   0.,   0.],\n",
              "       [-99., -99.,   1.,   1.]])"
            ]
          },
          "metadata": {
            "tags": []
          },
          "execution_count": 12
        }
      ]
    },
    {
      "cell_type": "markdown",
      "metadata": {
        "id": "lMpfKgv5_WSH",
        "colab_type": "text"
      },
      "source": [
        "## 4. Application"
      ]
    },
    {
      "cell_type": "code",
      "metadata": {
        "id": "DHHZ8lZ3_Pxo",
        "colab_type": "code",
        "colab": {}
      },
      "source": [
        "from sklearn.pipeline import make_pipeline\n",
        "from sklearn.model_selection import GridSearchCV, train_test_split"
      ],
      "execution_count": 0,
      "outputs": []
    },
    {
      "cell_type": "code",
      "metadata": {
        "id": "leX4JMND_fmM",
        "colab_type": "code",
        "colab": {}
      },
      "source": [
        "titanic = sns.load_dataset('titanic')\n",
        "X = titanic[['pclass', 'age']]\n",
        "y = titanic['survived']\n",
        "\n",
        "X_train, X_test, y_train, y_test = train_test_split(X, y, random_state=0)"
      ],
      "execution_count": 0,
      "outputs": []
    },
    {
      "cell_type": "code",
      "metadata": {
        "id": "v8kfddha_iEw",
        "colab_type": "code",
        "colab": {
          "base_uri": "https://localhost:8080/",
          "height": 34
        },
        "outputId": "034f6949-4599-4919-c4e8-8b71553017ab"
      },
      "source": [
        "model = make_pipeline(KNNImputer(), SGDClassifier())\n",
        "\n",
        "params = {'knnimputer__n_neighbors' : [1, 2, 3, 4]}\n",
        "\n",
        "grid = GridSearchCV(model, param_grid=params, cv=5)\n",
        "\n",
        "grid.fit(X_train, y_train)\n",
        "grid.best_params_"
      ],
      "execution_count": 15,
      "outputs": [
        {
          "output_type": "execute_result",
          "data": {
            "text/plain": [
              "{'knnimputer__n_neighbors': 4}"
            ]
          },
          "metadata": {
            "tags": []
          },
          "execution_count": 15
        }
      ]
    },
    {
      "cell_type": "code",
      "metadata": {
        "id": "SoodwQi1_tm0",
        "colab_type": "code",
        "colab": {}
      },
      "source": [
        ""
      ],
      "execution_count": 0,
      "outputs": []
    }
  ]
}